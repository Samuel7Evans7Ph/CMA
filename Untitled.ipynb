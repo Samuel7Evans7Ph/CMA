{
 "cells": [
  {
   "cell_type": "code",
   "execution_count": 26,
   "id": "3851781a",
   "metadata": {},
   "outputs": [],
   "source": [
    "class RowVectorFloat:\n",
    "    def __init__(self,list_num):\n",
    "        self.vector=list_num\n",
    "        self.len=len(list_num)\n",
    "       \n",
    "    def print_vector(self):\n",
    "        for i in self.vector:\n",
    "            print(i,end=\" \")\n",
    "    \n",
    "    def __str__(self):\n",
    "        self.print_vector()\n",
    "        return \"\"\n",
    "    def __len__(self):\n",
    "        return self.len\n",
    "    \n",
    "    def __setitem__(self,index,value):\n",
    "        self.vector[index]=value\n",
    "        \n",
    "    \n",
    "    def __getitem__(self,index):\n",
    "        return self.vector[index]\n",
    "    \n",
    "    def __add__(self,other):\n",
    "        new_list=[0]*(self.len)\n",
    "        for i in range(self.len):\n",
    "            new_list[i]=self.vector[i]+other.vector[i]\n",
    "        return RowVectorFloat(new_list)\n",
    "    def __mul__(self,other):\n",
    "        new_list=[0]*(self.len)\n",
    "        for i in range(self.len):\n",
    "            new_list[i]=self.vector[i]*other\n",
    "        return RowVectorFloat(new_list)\n",
    "        \n",
    "    def __rmul__(self,other):\n",
    "        new_list=[0]*(self.len)\n",
    "        for i in range(self.len):\n",
    "            new_list[i]=self.vector[i]*other\n",
    "        return RowVectorFloat(new_list)\n",
    "            \n",
    "        "
   ]
  },
  {
   "cell_type": "code",
   "execution_count": 27,
   "id": "d72e89f2",
   "metadata": {},
   "outputs": [],
   "source": [
    "r1=RowVectorFloat([1,2,3,4])"
   ]
  },
  {
   "cell_type": "code",
   "execution_count": 28,
   "id": "214ac551",
   "metadata": {},
   "outputs": [
    {
     "name": "stdout",
     "output_type": "stream",
     "text": [
      "1 2 3 4 \n"
     ]
    }
   ],
   "source": [
    "print(r1)\n",
    "r1[2]=9"
   ]
  },
  {
   "cell_type": "code",
   "execution_count": 29,
   "id": "ac9bcb22",
   "metadata": {},
   "outputs": [
    {
     "name": "stdout",
     "output_type": "stream",
     "text": [
      "4\n"
     ]
    }
   ],
   "source": [
    "print(len(r1))"
   ]
  },
  {
   "cell_type": "code",
   "execution_count": 31,
   "id": "5a824cc8",
   "metadata": {},
   "outputs": [
    {
     "data": {
      "text/plain": [
       "9"
      ]
     },
     "execution_count": 31,
     "metadata": {},
     "output_type": "execute_result"
    }
   ],
   "source": [
    "r1[2]"
   ]
  },
  {
   "cell_type": "code",
   "execution_count": 9,
   "id": "c53e9db9",
   "metadata": {},
   "outputs": [],
   "source": [
    "r2=RowVectorFloat([3,4,5,6])"
   ]
  },
  {
   "cell_type": "code",
   "execution_count": 10,
   "id": "ee4fb382",
   "metadata": {},
   "outputs": [],
   "source": [
    "r3=2*r1+3*r2"
   ]
  },
  {
   "cell_type": "code",
   "execution_count": 11,
   "id": "feaf833a",
   "metadata": {},
   "outputs": [
    {
     "name": "stdout",
     "output_type": "stream",
     "text": [
      "11 16 21 26 \n"
     ]
    }
   ],
   "source": [
    "print(r3)"
   ]
  },
  {
   "cell_type": "code",
   "execution_count": 12,
   "id": "7bae37fb",
   "metadata": {},
   "outputs": [],
   "source": [
    "#question 2"
   ]
  },
  {
   "cell_type": "code",
   "execution_count": 43,
   "id": "0ea76e1c",
   "metadata": {},
   "outputs": [],
   "source": [
    "import random\n",
    "import numpy\n",
    "class SquareMatrixFloat(RowVectorFloat):\n",
    "    def __init__(self,n):\n",
    "        self.matrix=[0]*(n)\n",
    "        self.row=n\n",
    "        self.col=n\n",
    "        for i in range(n):\n",
    "            self.matrix[i]=RowVectorFloat([0]*n)\n",
    "            \n",
    "    def print(self):\n",
    "        for i in range(self.row):\n",
    "            for j in range(self.row):\n",
    "                print(self.matrix[i][j],end=\" \")\n",
    "            print(\"\\n\")    \n",
    "            \n",
    "            \n",
    "    def __str__(self):\n",
    "        self.print()\n",
    "        return \"\"\n",
    "    \n",
    "    def sampleSymmetric(self):\n",
    "        for i in range(self.row):\n",
    "            for j in range(i,self.row):\n",
    "                ran_num=random.random()\n",
    "                self.matrix[i][j]=ran_num\n",
    "                self.matrix[j][i]=ran_num\n",
    "        return self.matrix   \n",
    "    \n",
    "    \n",
    "    def rowechelonform(self):\n",
    "        \n",
    "            \n",
    "            \n",
    "            \n",
    "            \n",
    "        "
   ]
  },
  {
   "cell_type": "code",
   "execution_count": 44,
   "id": "74a0fe3e",
   "metadata": {},
   "outputs": [],
   "source": [
    "s=SquareMatrixFloat(5)"
   ]
  },
  {
   "cell_type": "code",
   "execution_count": 45,
   "id": "75b97c7e",
   "metadata": {},
   "outputs": [
    {
     "name": "stdout",
     "output_type": "stream",
     "text": [
      "0 0 0 0 0 \n",
      "\n",
      "0 0 0 0 0 \n",
      "\n",
      "0 0 0 0 0 \n",
      "\n",
      "0 0 0 0 0 \n",
      "\n",
      "0 0 0 0 0 \n",
      "\n",
      "\n"
     ]
    }
   ],
   "source": [
    "print(s)"
   ]
  },
  {
   "cell_type": "code",
   "execution_count": 46,
   "id": "502e64d2",
   "metadata": {},
   "outputs": [
    {
     "data": {
      "text/plain": [
       "[<__main__.RowVectorFloat at 0x7f77814f5540>,\n",
       " <__main__.RowVectorFloat at 0x7f77814f56f0>,\n",
       " <__main__.RowVectorFloat at 0x7f77814f5b10>,\n",
       " <__main__.RowVectorFloat at 0x7f77814f75b0>,\n",
       " <__main__.RowVectorFloat at 0x7f77814f6e30>]"
      ]
     },
     "execution_count": 46,
     "metadata": {},
     "output_type": "execute_result"
    }
   ],
   "source": [
    "s.sampleSymmetric()"
   ]
  },
  {
   "cell_type": "code",
   "execution_count": 47,
   "id": "b40947d9",
   "metadata": {},
   "outputs": [
    {
     "data": {
      "text/plain": [
       "<__main__.SquareMatrixFloat at 0x7f77814f6830>"
      ]
     },
     "execution_count": 47,
     "metadata": {},
     "output_type": "execute_result"
    }
   ],
   "source": [
    "s"
   ]
  },
  {
   "cell_type": "code",
   "execution_count": 48,
   "id": "1b8640c2",
   "metadata": {},
   "outputs": [
    {
     "name": "stdout",
     "output_type": "stream",
     "text": [
      "0.662918894699263 0.07971249212032394 0.38750407456666924 0.233359464517219 0.07474413854164774 \n",
      "\n",
      "0.07971249212032394 0.2663059357578057 0.9011761151426858 0.35977500442228016 0.9809143187450823 \n",
      "\n",
      "0.38750407456666924 0.9011761151426858 0.5103330494444445 0.3007986937671272 0.3273858015554042 \n",
      "\n",
      "0.233359464517219 0.35977500442228016 0.3007986937671272 0.16226643416089315 0.4756045417052984 \n",
      "\n",
      "0.07474413854164774 0.9809143187450823 0.3273858015554042 0.4756045417052984 0.4579946791515128 \n",
      "\n",
      "\n"
     ]
    }
   ],
   "source": [
    "print(s)"
   ]
  },
  {
   "cell_type": "code",
   "execution_count": null,
   "id": "5ff30462",
   "metadata": {},
   "outputs": [],
   "source": []
  },
  {
   "cell_type": "code",
   "execution_count": 212,
   "id": "e66414ba",
   "metadata": {},
   "outputs": [],
   "source": [
    "#question4\n",
    "import numpy as np\n",
    "import matplotlib.pyplot as plt\n",
    "class Polynomial:\n",
    "    def __init__(self,coeff_list):\n",
    "        self.coeff=coeff_list\n",
    "    def __str__(self):\n",
    "        print(f\" Coefficients of the polynomial are:\")\n",
    "        print(self.coeff)\n",
    "        return \"\"\n",
    "    def __add__(self,other):\n",
    "        new_coeff=[0]*len(self.coeff)\n",
    "        for i in range(len(self.coeff)):\n",
    "            new_coeff[i]=self.coeff[i]+other.coeff[i]\n",
    "        return Polynomial(new_coeff)\n",
    "    \n",
    "    def __sub__(self,other):\n",
    "        new_coeff=[0]*len(self.coeff)\n",
    "        for i in range(len(self.coeff)):\n",
    "            new_coeff[i]=self.coeff[i]-other.coeff[i]\n",
    "        return Polynomial(new_coeff)\n",
    "    def __mul__(self,other):\n",
    "        new_coeff=[0]*(len(self.coeff)+len(other.coeff)-1)\n",
    "        for i in range(len(self.coeff)):\n",
    "            for j in range(len(other.coeff)):\n",
    "                new_coeff[i+j]+=self.coeff[i]*other.coeff[j]\n",
    "#                 print(new_coeff[i])\n",
    "        return Polynomial(new_coeff)\n",
    "    def __rmul__(self,other):\n",
    "        new_coeff=[0]*len(self.coeff)\n",
    "        if isinstance(other,int):\n",
    "            for i in range(len(self.coeff)):\n",
    "                new_coeff[i]=self.coeff[i]*other\n",
    "            return Polynomial(new_coeff)    \n",
    "#         else:\n",
    "#             for i in range(len(self.coeff)):\n",
    "#                 new_coeff[i]=self.coeff[i]*other.coeff[i]\n",
    "#             return Polynomial(new_coeff)\n",
    "\n",
    "    def __getitem__(self,num):\n",
    "        val=0\n",
    "        for i in range(len(self.coeff)):\n",
    "            val+=self.coeff[i]*(num**i)\n",
    "        return val  \n",
    "    def __setitem__(self,index,num):\n",
    "        self.coeff[index]=num\n",
    "        \n",
    "        \n",
    "        \n",
    "    \n",
    "    def show(self,left,right):\n",
    "        #dividing the indexes in the range of 10\n",
    "        div=(right-left)/100\n",
    "        output=[0]*101\n",
    "        inputt=[0]*101\n",
    "        for i in range(101):\n",
    "            output[i]=self.__getitem__(left+div*i)\n",
    "            inputt[i]=left+div*i\n",
    "        plt.plot(inputt,output)\n",
    "        plt.show()\n",
    "            \n",
    "    def  fitviamatrixmethod(self,mapping):\n",
    "        degree=len(mapping)\n",
    "        output_list=[mapping[i][1] for i in range(len(mapping))]\n",
    "        input_matrix=[]\n",
    "        \n",
    "        for i in range(len(mapping)):\n",
    "            output_row=[]\n",
    "            for j in range(degree):\n",
    "                output_row.append(mapping[i][0]**j)\n",
    "            input_matrix.append(output_row)\n",
    "        coeff=np.linalg.solve(input_matrix,output_list)\n",
    "        p5=Polynomial(coeff)\n",
    "        return p5.show(-1,3)\n",
    "    \n",
    "    \n",
    "    def fitvialagrangepoly(self,mapping):\n",
    "        degree=len(mapping)\n",
    "        p_0=Polynomial([0]*degree)\n",
    "        for i in range(degree):\n",
    "            p0=Polynomial([1])\n",
    "            denom=1\n",
    "            for j in  range(degree):\n",
    "                if(i!=j):\n",
    "                    p1=Polynomial([mapping[j][0],1])\n",
    "                    p0=p0*p1\n",
    "                    denom*=(mapping[i][0]-mapping[j][0])\n",
    "#             print(p0)       \n",
    "            for j in  range(degree):\n",
    "                p0[j]=p0[j]/denom\n",
    "                p0[j]*=mapping[i][1]\n",
    "#                 print(p0[j])\n",
    "#             print(p0)    \n",
    "            p_0=p_0+p0\n",
    "            print(p_0)   \n",
    "        return p_0.show(-10,10)\n",
    "            \n",
    "                \n",
    "                \n",
    "                \n",
    "                \n",
    "                    \n",
    "        \n",
    "                    \n",
    "                    \n",
    "                    \n",
    "                    \n",
    "        \n",
    "        \n",
    "        \n",
    "        \n",
    "        \n",
    "        \n",
    "            \n",
    "                \n",
    "            \n",
    "        \n",
    "\n",
    "    \n",
    "    \n",
    "    \n",
    "        \n",
    "    "
   ]
  },
  {
   "cell_type": "code",
   "execution_count": 213,
   "id": "1604bb2a",
   "metadata": {},
   "outputs": [],
   "source": [
    "p=Polynomial([1,2,3])"
   ]
  },
  {
   "cell_type": "code",
   "execution_count": 214,
   "id": "9286bfee",
   "metadata": {},
   "outputs": [
    {
     "name": "stdout",
     "output_type": "stream",
     "text": [
      " Coefficients of the polynomial are:\n",
      "[1, 2, 3]\n",
      "\n"
     ]
    }
   ],
   "source": [
    "print(p)"
   ]
  },
  {
   "cell_type": "code",
   "execution_count": 215,
   "id": "b0d3bfea",
   "metadata": {},
   "outputs": [
    {
     "name": "stdout",
     "output_type": "stream",
     "text": [
      " Coefficients of the polynomial are:\n",
      "[4, 4, 4]\n",
      "\n"
     ]
    }
   ],
   "source": [
    "p1=Polynomial([1,2,3])\n",
    "p2=Polynomial([3,2,1])\n",
    "p3=p2+p1\n",
    "print(p3)"
   ]
  },
  {
   "cell_type": "code",
   "execution_count": 216,
   "id": "25690b13",
   "metadata": {},
   "outputs": [
    {
     "name": "stdout",
     "output_type": "stream",
     "text": [
      " Coefficients of the polynomial are:\n",
      "[-2, 0, 2]\n",
      "\n"
     ]
    }
   ],
   "source": [
    "print(p1-p2)"
   ]
  },
  {
   "cell_type": "code",
   "execution_count": 217,
   "id": "55c85d3f",
   "metadata": {},
   "outputs": [
    {
     "name": "stdout",
     "output_type": "stream",
     "text": [
      " Coefficients of the polynomial are:\n",
      "[3, 10, 18, 14, 3]\n",
      "\n",
      " Coefficients of the polynomial are:\n",
      "[3, 6, 9]\n",
      "\n"
     ]
    }
   ],
   "source": [
    "p1=Polynomial([1,2,3])\n",
    "p2=Polynomial([3,4,1])\n",
    "p3=p1*p2\n",
    "p4=3*p1\n",
    "print(p3)\n",
    "print(p4)"
   ]
  },
  {
   "cell_type": "code",
   "execution_count": 218,
   "id": "3bc4d08d",
   "metadata": {},
   "outputs": [],
   "source": [
    "#evaluating a polynomial"
   ]
  },
  {
   "cell_type": "code",
   "execution_count": 219,
   "id": "2fc6e98b",
   "metadata": {},
   "outputs": [
    {
     "name": "stdout",
     "output_type": "stream",
     "text": [
      "17\n"
     ]
    }
   ],
   "source": [
    "p=Polynomial([1,2,3])\n",
    "print(p[2])"
   ]
  },
  {
   "cell_type": "code",
   "execution_count": 220,
   "id": "5b99a08d",
   "metadata": {},
   "outputs": [
    {
     "data": {
      "image/png": "[encoded data removed]",
      "text/plain": [
       "<Figure size 640x480 with 1 Axes>"
      ]
     },
     "metadata": {},
     "output_type": "display_data"
    }
   ],
   "source": [
    "p.show(-1,2)"
   ]
  },
  {
   "cell_type": "code",
   "execution_count": 221,
   "id": "5290ec6c",
   "metadata": {},
   "outputs": [
    {
     "data": {
      "image/png": "[encoded data removed]",
      "text/plain": [
       "<Figure size 640x480 with 1 Axes>"
      ]
     },
     "metadata": {},
     "output_type": "display_data"
    }
   ],
   "source": [
    "p.fitviamatrixmethod([(1,4),(0,1),(-1,0),(2,15),(3,12)])"
   ]
  },
  {
   "cell_type": "code",
   "execution_count": 222,
   "id": "f829a1c6",
   "metadata": {},
   "outputs": [
    {
     "name": "stdout",
     "output_type": "stream",
     "text": [
      " Coefficients of the polynomial are:\n",
      "[0.0, -24.0, -16.0, 1269.0, -21090176.0]\n",
      "\n",
      " Coefficients of the polynomial are:\n",
      "[1.0, -13.166666666666668, -3.111111111111107, -145.25, -17340205.14814815]\n",
      "\n",
      " Coefficients of the polynomial are:\n",
      "[1.0, 62.83333333333333, 1034.2222222222224, 82566.25000000001, 230491126.40740743]\n",
      "\n",
      " Coefficients of the polynomial are:\n",
      "[1.0, 74.83333333333333, 1130.2222222222224, 67374.25000000001, 392231435.7407408]\n",
      "\n",
      " Coefficients of the polynomial are:\n",
      "[1.0, 76.83333333333333, 1171.5555555555557, 68410.37500000001, 393015615.29629636]\n",
      "\n"
     ]
    },
    {
     "data": {
      "image/png": "[encoded data removed]",
      "text/plain": [
       "<Figure size 640x480 with 1 Axes>"
      ]
     },
     "metadata": {},
     "output_type": "display_data"
    }
   ],
   "source": [
    "p.fitvialagrangepoly([[1,-4], [0,1], [-1, 4], [2, 4], [3,1]])"
   ]
  },
  {
   "cell_type": "code",
   "execution_count": null,
   "id": "582bb89a",
   "metadata": {},
   "outputs": [],
   "source": []
  },
  {
   "cell_type": "code",
   "execution_count": null,
   "id": "1922de8b",
   "metadata": {},
   "outputs": [],
   "source": []
  },
  {
   "cell_type": "code",
   "execution_count": null,
   "id": "e6273d4b",
   "metadata": {},
   "outputs": [],
   "source": []
  },
  {
   "cell_type": "code",
   "execution_count": null,
   "id": "a4ded544",
   "metadata": {},
   "outputs": [],
   "source": []
  },
  {
   "cell_type": "code",
   "execution_count": null,
   "id": "95ac81a6",
   "metadata": {},
   "outputs": [],
   "source": []
  },
  {
   "cell_type": "code",
   "execution_count": null,
   "id": "2a5aaf37",
   "metadata": {},
   "outputs": [],
   "source": []
  }
 ],
 "metadata": {
  "kernelspec": {
   "display_name": "Python 3 (ipykernel)",
   "language": "python",
   "name": "python3"
  },
  "language_info": {
   "codemirror_mode": {
    "name": "ipython",
    "version": 3
   },
   "file_extension": ".py",
   "mimetype": "text/x-python",
   "name": "python",
   "nbconvert_exporter": "python",
   "pygments_lexer": "ipython3",
   "version": "3.12.2"
  }
 },
 "nbformat": 4,
 "nbformat_minor": 5
}
